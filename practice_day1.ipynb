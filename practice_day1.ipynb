{
  "nbformat": 4,
  "nbformat_minor": 0,
  "metadata": {
    "colab": {
      "provenance": [],
      "gpuType": "T4",
      "authorship_tag": "ABX9TyOs/Zko6R85dC0xd8pFksPR",
      "include_colab_link": true
    },
    "kernelspec": {
      "name": "python3",
      "display_name": "Python 3"
    },
    "language_info": {
      "name": "python"
    },
    "accelerator": "GPU"
  },
  "cells": [
    {
      "cell_type": "markdown",
      "metadata": {
        "id": "view-in-github",
        "colab_type": "text"
      },
      "source": [
        "<a href=\"https://colab.research.google.com/github/debojit11/Deep_Learning_Pytorch/blob/main/practice_day1.ipynb\" target=\"_parent\"><img src=\"https://colab.research.google.com/assets/colab-badge.svg\" alt=\"Open In Colab\"/></a>"
      ]
    },
    {
      "cell_type": "code",
      "execution_count": 1,
      "metadata": {
        "id": "75MmalotBTn1"
      },
      "outputs": [],
      "source": [
        "import torch"
      ]
    },
    {
      "cell_type": "code",
      "source": [
        "# Scalar (0D Tensor)\n",
        "scalar = torch.tensor(5)\n",
        "scalar"
      ],
      "metadata": {
        "colab": {
          "base_uri": "https://localhost:8080/"
        },
        "id": "NtgjzC26BwJW",
        "outputId": "278cd2ca-3814-47a6-c8b7-95eab51b8eb6"
      },
      "execution_count": 2,
      "outputs": [
        {
          "output_type": "execute_result",
          "data": {
            "text/plain": [
              "tensor(5)"
            ]
          },
          "metadata": {},
          "execution_count": 2
        }
      ]
    },
    {
      "cell_type": "code",
      "source": [
        "# Vector (1D Tensor)\n",
        "vector = torch.tensor([1,2,3])\n",
        "vector"
      ],
      "metadata": {
        "colab": {
          "base_uri": "https://localhost:8080/"
        },
        "id": "64SVH4mBB2H9",
        "outputId": "c901749b-e822-4722-a390-c5c93ffa745e"
      },
      "execution_count": 3,
      "outputs": [
        {
          "output_type": "execute_result",
          "data": {
            "text/plain": [
              "tensor([1, 2, 3])"
            ]
          },
          "metadata": {},
          "execution_count": 3
        }
      ]
    },
    {
      "cell_type": "code",
      "source": [
        "# Matrix (2D Tensor)\n",
        "matrix = torch.tensor([[1,2], [3,4]])\n",
        "matrix"
      ],
      "metadata": {
        "colab": {
          "base_uri": "https://localhost:8080/"
        },
        "id": "z4cdODq4B8tG",
        "outputId": "de8a796c-8e21-4040-afde-134fef2bf25b"
      },
      "execution_count": 4,
      "outputs": [
        {
          "output_type": "execute_result",
          "data": {
            "text/plain": [
              "tensor([[1, 2],\n",
              "        [3, 4]])"
            ]
          },
          "metadata": {},
          "execution_count": 4
        }
      ]
    },
    {
      "cell_type": "code",
      "source": [
        "# 3D Tensor\n",
        "tensor3d = torch.tensor([[[1,2], [3,4], [5,6]]])\n",
        "tensor3d"
      ],
      "metadata": {
        "colab": {
          "base_uri": "https://localhost:8080/"
        },
        "id": "P6cgdxpbCEdO",
        "outputId": "b965bf5f-497c-433b-f6be-73830656813b"
      },
      "execution_count": 5,
      "outputs": [
        {
          "output_type": "execute_result",
          "data": {
            "text/plain": [
              "tensor([[[1, 2],\n",
              "         [3, 4],\n",
              "         [5, 6]]])"
            ]
          },
          "metadata": {},
          "execution_count": 5
        }
      ]
    },
    {
      "cell_type": "code",
      "source": [
        "a = torch.tensor([1,2,3])\n",
        "b = torch.tensor([4,5,6])"
      ],
      "metadata": {
        "id": "4I6sr2JbCVU5"
      },
      "execution_count": 6,
      "outputs": []
    },
    {
      "cell_type": "code",
      "source": [
        "#addition\n",
        "a+b"
      ],
      "metadata": {
        "colab": {
          "base_uri": "https://localhost:8080/"
        },
        "id": "7bw2aRxvCqNb",
        "outputId": "e6ce3da8-cf63-4fa3-83fd-e8125103fdfb"
      },
      "execution_count": 7,
      "outputs": [
        {
          "output_type": "execute_result",
          "data": {
            "text/plain": [
              "tensor([5, 7, 9])"
            ]
          },
          "metadata": {},
          "execution_count": 7
        }
      ]
    },
    {
      "cell_type": "code",
      "source": [
        "#subtraction\n",
        "a-b"
      ],
      "metadata": {
        "colab": {
          "base_uri": "https://localhost:8080/"
        },
        "id": "pqI_TxPlCsIK",
        "outputId": "d8c4d00a-818f-402a-8052-319dcf6b3748"
      },
      "execution_count": 8,
      "outputs": [
        {
          "output_type": "execute_result",
          "data": {
            "text/plain": [
              "tensor([-3, -3, -3])"
            ]
          },
          "metadata": {},
          "execution_count": 8
        }
      ]
    },
    {
      "cell_type": "code",
      "source": [
        "# multiplication\n",
        "a*b"
      ],
      "metadata": {
        "colab": {
          "base_uri": "https://localhost:8080/"
        },
        "id": "JbY_sbVaCvmL",
        "outputId": "962bf340-2f07-45a8-993b-db77335431df"
      },
      "execution_count": 9,
      "outputs": [
        {
          "output_type": "execute_result",
          "data": {
            "text/plain": [
              "tensor([ 4, 10, 18])"
            ]
          },
          "metadata": {},
          "execution_count": 9
        }
      ]
    },
    {
      "cell_type": "code",
      "source": [
        "# division\n",
        "a/b"
      ],
      "metadata": {
        "colab": {
          "base_uri": "https://localhost:8080/"
        },
        "id": "gEzEsxvODChM",
        "outputId": "69ef2b22-72b5-4091-ec1a-17106cbf6617"
      },
      "execution_count": 10,
      "outputs": [
        {
          "output_type": "execute_result",
          "data": {
            "text/plain": [
              "tensor([0.2500, 0.4000, 0.5000])"
            ]
          },
          "metadata": {},
          "execution_count": 10
        }
      ]
    },
    {
      "cell_type": "code",
      "source": [
        "A= torch.tensor([[1,2], [3,4]])\n",
        "B= torch.tensor([[5,6], [7,8]])"
      ],
      "metadata": {
        "id": "LTnhx_mGDGy1"
      },
      "execution_count": 11,
      "outputs": []
    },
    {
      "cell_type": "code",
      "source": [
        "# matrix multiplication\n",
        "torch.mm(A,B) # or use A @ B"
      ],
      "metadata": {
        "colab": {
          "base_uri": "https://localhost:8080/"
        },
        "id": "L0pDn5GuDsAB",
        "outputId": "a757eaef-87cd-47fb-98c5-35ce4ffe597c"
      },
      "execution_count": 12,
      "outputs": [
        {
          "output_type": "execute_result",
          "data": {
            "text/plain": [
              "tensor([[19, 22],\n",
              "        [43, 50]])"
            ]
          },
          "metadata": {},
          "execution_count": 12
        }
      ]
    },
    {
      "cell_type": "code",
      "source": [
        "x = torch.tensor(3.0, requires_grad=True) # Enable autograd"
      ],
      "metadata": {
        "id": "s_4r55CqDzHJ"
      },
      "execution_count": 13,
      "outputs": []
    },
    {
      "cell_type": "code",
      "source": [
        "y = x**2    # y = x^2\n",
        "y.backward()  # Compute gradient, dy/dx\n",
        "x.grad"
      ],
      "metadata": {
        "colab": {
          "base_uri": "https://localhost:8080/"
        },
        "id": "lZNHqG-EEm1-",
        "outputId": "30e3f8a9-8a4a-43bc-9301-520104204ea1"
      },
      "execution_count": 14,
      "outputs": [
        {
          "output_type": "execute_result",
          "data": {
            "text/plain": [
              "tensor(6.)"
            ]
          },
          "metadata": {},
          "execution_count": 14
        }
      ]
    },
    {
      "cell_type": "code",
      "source": [
        "z = 3*y + 2  # z = 3y + 2\n",
        "# Compute gradient\n",
        "z.backward()\n",
        "x.grad"
      ],
      "metadata": {
        "id": "3weH4JUuExsf"
      },
      "execution_count": 14,
      "outputs": []
    },
    {
      "cell_type": "code",
      "source": [
        "i = torch.tensor([[1,2,3], [4,5,6]])\n",
        "i"
      ],
      "metadata": {
        "colab": {
          "base_uri": "https://localhost:8080/"
        },
        "id": "lEw_ewQnGdth",
        "outputId": "76266878-c9bc-453f-ffbc-5f524e08764d"
      },
      "execution_count": 16,
      "outputs": [
        {
          "output_type": "execute_result",
          "data": {
            "text/plain": [
              "tensor([[1, 2, 3],\n",
              "        [4, 5, 6]])"
            ]
          },
          "metadata": {},
          "execution_count": 16
        }
      ]
    },
    {
      "cell_type": "code",
      "source": [
        "# Transpose the matrix\n",
        "i_T = i.T     # or A.transpose(0, 1)\n",
        "i_T"
      ],
      "metadata": {
        "colab": {
          "base_uri": "https://localhost:8080/"
        },
        "id": "UTdYBqFMGuL0",
        "outputId": "8a5149f0-a399-41b1-80ab-275bbeaf59a3"
      },
      "execution_count": 17,
      "outputs": [
        {
          "output_type": "execute_result",
          "data": {
            "text/plain": [
              "tensor([[1, 4],\n",
              "        [2, 5],\n",
              "        [3, 6]])"
            ]
          },
          "metadata": {},
          "execution_count": 17
        }
      ]
    },
    {
      "cell_type": "markdown",
      "source": [
        "**If you have a 3D tensor (batch of matrices), use .permute() instead.**"
      ],
      "metadata": {
        "id": "QU1BoYdQHHTO"
      }
    },
    {
      "cell_type": "markdown",
      "source": [
        "# **Exercise**"
      ],
      "metadata": {
        "id": "DEh7JWp8Ho0q"
      }
    },
    {
      "cell_type": "markdown",
      "source": [
        "\n",
        "\n",
        "1.   **Create a 4x4 tensor with random values. Find its transpose.**\n",
        "\n",
        "\n",
        "2.   **Compute the gradient of f(x)= 4x^3 + 3x^2 - 5x + 2 at x=2 using PyTorch’s autograd**\n",
        "\n",
        "\n",
        "3.   **Multiply a 2x3 tensor with a 3x2 tensor and print the result.**\n"
      ],
      "metadata": {
        "id": "wUqxoLJ2HtOx"
      }
    },
    {
      "cell_type": "code",
      "source": [
        "tensor1 = torch.rand(4,4)\n",
        "tensor1"
      ],
      "metadata": {
        "colab": {
          "base_uri": "https://localhost:8080/"
        },
        "id": "o3jAqEwBHBw2",
        "outputId": "013498f9-88a8-42ad-8332-4d270c977d50"
      },
      "execution_count": 26,
      "outputs": [
        {
          "output_type": "execute_result",
          "data": {
            "text/plain": [
              "tensor([[0.6623, 0.3536, 0.9863, 0.4299],\n",
              "        [0.2373, 0.3009, 0.8286, 0.7828],\n",
              "        [0.5496, 0.0126, 0.4173, 0.5639],\n",
              "        [0.2522, 0.4258, 0.2093, 0.1315]])"
            ]
          },
          "metadata": {},
          "execution_count": 26
        }
      ]
    },
    {
      "cell_type": "code",
      "source": [
        "tensor1.T"
      ],
      "metadata": {
        "colab": {
          "base_uri": "https://localhost:8080/"
        },
        "id": "abCM19vuLjGT",
        "outputId": "59899d79-f998-4706-8c0c-b05f27827209"
      },
      "execution_count": 27,
      "outputs": [
        {
          "output_type": "execute_result",
          "data": {
            "text/plain": [
              "tensor([[0.6623, 0.2373, 0.5496, 0.2522],\n",
              "        [0.3536, 0.3009, 0.0126, 0.4258],\n",
              "        [0.9863, 0.8286, 0.4173, 0.2093],\n",
              "        [0.4299, 0.7828, 0.5639, 0.1315]])"
            ]
          },
          "metadata": {},
          "execution_count": 27
        }
      ]
    },
    {
      "cell_type": "code",
      "source": [
        "j = torch.tensor(2.0, requires_grad=True)\n",
        "y = 4*(j**3) + 3*(j**2) - 5*j + 2\n",
        "y.backward()\n",
        "j.grad"
      ],
      "metadata": {
        "colab": {
          "base_uri": "https://localhost:8080/"
        },
        "id": "LaQaWFyvIevP",
        "outputId": "ba712ab9-cd07-4bbc-8d7a-f5e937f0a845"
      },
      "execution_count": 20,
      "outputs": [
        {
          "output_type": "execute_result",
          "data": {
            "text/plain": [
              "tensor(55.)"
            ]
          },
          "metadata": {},
          "execution_count": 20
        }
      ]
    },
    {
      "cell_type": "code",
      "source": [
        "tensor23 = torch.randint(0,10,(2,3))\n",
        "tensor23"
      ],
      "metadata": {
        "colab": {
          "base_uri": "https://localhost:8080/"
        },
        "id": "V9qkMdzHJTdc",
        "outputId": "a6477003-7611-4bd6-c20b-04902962d1bd"
      },
      "execution_count": 21,
      "outputs": [
        {
          "output_type": "execute_result",
          "data": {
            "text/plain": [
              "tensor([[6, 0, 2],\n",
              "        [9, 1, 3]])"
            ]
          },
          "metadata": {},
          "execution_count": 21
        }
      ]
    },
    {
      "cell_type": "code",
      "source": [
        "tensor32 = torch.randint(0,10,(3,2))\n",
        "tensor32"
      ],
      "metadata": {
        "colab": {
          "base_uri": "https://localhost:8080/"
        },
        "id": "g5kANzxhKwX1",
        "outputId": "f7a790ea-f9d2-4eb7-df55-f7dfd5d5f7d5"
      },
      "execution_count": 22,
      "outputs": [
        {
          "output_type": "execute_result",
          "data": {
            "text/plain": [
              "tensor([[3, 0],\n",
              "        [4, 2],\n",
              "        [5, 6]])"
            ]
          },
          "metadata": {},
          "execution_count": 22
        }
      ]
    },
    {
      "cell_type": "code",
      "source": [
        "torch.mm(tensor23, tensor32)"
      ],
      "metadata": {
        "colab": {
          "base_uri": "https://localhost:8080/"
        },
        "id": "l_FloysPKzbd",
        "outputId": "04d3d3dc-fd17-48cb-9def-39b8b7be2480"
      },
      "execution_count": 24,
      "outputs": [
        {
          "output_type": "execute_result",
          "data": {
            "text/plain": [
              "tensor([[28, 12],\n",
              "        [46, 20]])"
            ]
          },
          "metadata": {},
          "execution_count": 24
        }
      ]
    }
  ]
}