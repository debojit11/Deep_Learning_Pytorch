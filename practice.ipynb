{
  "nbformat": 4,
  "nbformat_minor": 0,
  "metadata": {
    "colab": {
      "provenance": [],
      "gpuType": "T4",
      "authorship_tag": "ABX9TyN2p85C8C2AwEHBEhFRjAbR",
      "include_colab_link": true
    },
    "kernelspec": {
      "name": "python3",
      "display_name": "Python 3"
    },
    "language_info": {
      "name": "python"
    },
    "accelerator": "GPU"
  },
  "cells": [
    {
      "cell_type": "markdown",
      "metadata": {
        "id": "view-in-github",
        "colab_type": "text"
      },
      "source": [
        "<a href=\"https://colab.research.google.com/github/debojit11/Deep_Learning_Pytorch/blob/main/practice.ipynb\" target=\"_parent\"><img src=\"https://colab.research.google.com/assets/colab-badge.svg\" alt=\"Open In Colab\"/></a>"
      ]
    },
    {
      "cell_type": "code",
      "execution_count": null,
      "metadata": {
        "id": "75MmalotBTn1"
      },
      "outputs": [],
      "source": [
        "import torch"
      ]
    },
    {
      "cell_type": "code",
      "source": [
        "# Scalar (0D Tensor)\n",
        "scalar = torch.tensor(5)\n",
        "scalar"
      ],
      "metadata": {
        "colab": {
          "base_uri": "https://localhost:8080/"
        },
        "id": "NtgjzC26BwJW",
        "outputId": "c4af94e1-db1b-4926-b510-850acd0650af"
      },
      "execution_count": null,
      "outputs": [
        {
          "output_type": "execute_result",
          "data": {
            "text/plain": [
              "tensor(5)"
            ]
          },
          "metadata": {},
          "execution_count": 2
        }
      ]
    },
    {
      "cell_type": "code",
      "source": [
        "# Vector (1D Tensor)\n",
        "vector = torch.tensor([1,2,3])\n",
        "vector"
      ],
      "metadata": {
        "colab": {
          "base_uri": "https://localhost:8080/"
        },
        "id": "64SVH4mBB2H9",
        "outputId": "558d2c79-a68f-4776-ae8a-04252d7ebda9"
      },
      "execution_count": null,
      "outputs": [
        {
          "output_type": "execute_result",
          "data": {
            "text/plain": [
              "tensor([1, 2, 3])"
            ]
          },
          "metadata": {},
          "execution_count": 3
        }
      ]
    },
    {
      "cell_type": "code",
      "source": [
        "# Matrix (2D Tensor)\n",
        "matrix = torch.tensor([[1,2], [3,4]])\n",
        "matrix"
      ],
      "metadata": {
        "colab": {
          "base_uri": "https://localhost:8080/"
        },
        "id": "z4cdODq4B8tG",
        "outputId": "382e4b76-539e-4419-d932-e256e6510587"
      },
      "execution_count": null,
      "outputs": [
        {
          "output_type": "execute_result",
          "data": {
            "text/plain": [
              "tensor([[1, 2],\n",
              "        [3, 4]])"
            ]
          },
          "metadata": {},
          "execution_count": 4
        }
      ]
    },
    {
      "cell_type": "code",
      "source": [
        "# 3D Tensor\n",
        "tensor3d = torch.tensor([[[1,2], [3,4], [5,6]]])\n",
        "tensor3d"
      ],
      "metadata": {
        "colab": {
          "base_uri": "https://localhost:8080/"
        },
        "id": "P6cgdxpbCEdO",
        "outputId": "9ede4d23-bd3e-4de7-bdd3-51552b1d5b51"
      },
      "execution_count": null,
      "outputs": [
        {
          "output_type": "execute_result",
          "data": {
            "text/plain": [
              "tensor([[[1, 2],\n",
              "         [3, 4],\n",
              "         [5, 6]]])"
            ]
          },
          "metadata": {},
          "execution_count": 5
        }
      ]
    },
    {
      "cell_type": "code",
      "source": [
        "a = torch.tensor([1,2,3])\n",
        "b = torch.tensor([4,5,6])"
      ],
      "metadata": {
        "id": "4I6sr2JbCVU5"
      },
      "execution_count": null,
      "outputs": []
    },
    {
      "cell_type": "code",
      "source": [
        "#addition\n",
        "a+b"
      ],
      "metadata": {
        "colab": {
          "base_uri": "https://localhost:8080/"
        },
        "id": "7bw2aRxvCqNb",
        "outputId": "0037fac0-2dd4-4d36-e810-8e1d66edaab2"
      },
      "execution_count": null,
      "outputs": [
        {
          "output_type": "execute_result",
          "data": {
            "text/plain": [
              "tensor([5, 7, 9])"
            ]
          },
          "metadata": {},
          "execution_count": 7
        }
      ]
    },
    {
      "cell_type": "code",
      "source": [
        "#subtraction\n",
        "a-b"
      ],
      "metadata": {
        "colab": {
          "base_uri": "https://localhost:8080/"
        },
        "id": "pqI_TxPlCsIK",
        "outputId": "c3c37ad2-f06f-40be-ee96-8ffcdc2480b5"
      },
      "execution_count": null,
      "outputs": [
        {
          "output_type": "execute_result",
          "data": {
            "text/plain": [
              "tensor([-3, -3, -3])"
            ]
          },
          "metadata": {},
          "execution_count": 8
        }
      ]
    },
    {
      "cell_type": "code",
      "source": [
        "# multiplication\n",
        "a*b"
      ],
      "metadata": {
        "colab": {
          "base_uri": "https://localhost:8080/"
        },
        "id": "JbY_sbVaCvmL",
        "outputId": "4fb1298d-a941-403e-a4e6-9a3c3aaa031e"
      },
      "execution_count": null,
      "outputs": [
        {
          "output_type": "execute_result",
          "data": {
            "text/plain": [
              "tensor([ 4, 10, 18])"
            ]
          },
          "metadata": {},
          "execution_count": 9
        }
      ]
    },
    {
      "cell_type": "code",
      "source": [
        "# division\n",
        "a/b"
      ],
      "metadata": {
        "colab": {
          "base_uri": "https://localhost:8080/"
        },
        "id": "gEzEsxvODChM",
        "outputId": "039a78cf-b02c-473d-cf96-e2adb244f94a"
      },
      "execution_count": null,
      "outputs": [
        {
          "output_type": "execute_result",
          "data": {
            "text/plain": [
              "tensor([0.2500, 0.4000, 0.5000])"
            ]
          },
          "metadata": {},
          "execution_count": 10
        }
      ]
    },
    {
      "cell_type": "code",
      "source": [
        "A= torch.tensor([[1,2], [3,4]])\n",
        "B= torch.tensor([[5,6], [7,8]])"
      ],
      "metadata": {
        "id": "LTnhx_mGDGy1"
      },
      "execution_count": null,
      "outputs": []
    },
    {
      "cell_type": "code",
      "source": [
        "# matrix multiplication\n",
        "torch.mm(A,B) # or use A @ B"
      ],
      "metadata": {
        "colab": {
          "base_uri": "https://localhost:8080/"
        },
        "id": "L0pDn5GuDsAB",
        "outputId": "49dae6d0-adaf-4430-de9c-af7020d8747c"
      },
      "execution_count": null,
      "outputs": [
        {
          "output_type": "execute_result",
          "data": {
            "text/plain": [
              "tensor([[19, 22],\n",
              "        [43, 50]])"
            ]
          },
          "metadata": {},
          "execution_count": 12
        }
      ]
    },
    {
      "cell_type": "code",
      "source": [
        "x = torch.tensor(3.0, requires_grad=True) # Enable autograd"
      ],
      "metadata": {
        "id": "s_4r55CqDzHJ"
      },
      "execution_count": null,
      "outputs": []
    },
    {
      "cell_type": "code",
      "source": [
        "y = x**2    # y = x^2\n",
        "y.backward()  # Compute gradient, dy/dx\n",
        "x.grad"
      ],
      "metadata": {
        "colab": {
          "base_uri": "https://localhost:8080/"
        },
        "id": "lZNHqG-EEm1-",
        "outputId": "0e60ef7e-3659-4889-e8d4-f65e6b7da4bc"
      },
      "execution_count": null,
      "outputs": [
        {
          "output_type": "execute_result",
          "data": {
            "text/plain": [
              "tensor(6.)"
            ]
          },
          "metadata": {},
          "execution_count": 14
        }
      ]
    },
    {
      "cell_type": "code",
      "source": [
        "x = torch.tensor(3.0, requires_grad=True) # Enable autograd\n",
        "y = x**2    # y = x^2\n",
        "z = 3*y + 2  # z = 3y + 2\n",
        "# Compute gradient\n",
        "z.backward()\n",
        "x.grad"
      ],
      "metadata": {
        "id": "3weH4JUuExsf",
        "colab": {
          "base_uri": "https://localhost:8080/"
        },
        "outputId": "83419400-5ccf-47c5-c845-85b0e4d90002"
      },
      "execution_count": null,
      "outputs": [
        {
          "output_type": "execute_result",
          "data": {
            "text/plain": [
              "tensor(18.)"
            ]
          },
          "metadata": {},
          "execution_count": 15
        }
      ]
    },
    {
      "cell_type": "code",
      "source": [
        "i = torch.tensor([[1,2,3], [4,5,6]])\n",
        "i"
      ],
      "metadata": {
        "colab": {
          "base_uri": "https://localhost:8080/"
        },
        "id": "lEw_ewQnGdth",
        "outputId": "9b3be853-3ba5-4d40-da20-90784ca3a31c"
      },
      "execution_count": null,
      "outputs": [
        {
          "output_type": "execute_result",
          "data": {
            "text/plain": [
              "tensor([[1, 2, 3],\n",
              "        [4, 5, 6]])"
            ]
          },
          "metadata": {},
          "execution_count": 16
        }
      ]
    },
    {
      "cell_type": "code",
      "source": [
        "# Transpose the matrix\n",
        "i_T = i.T     # or A.transpose(0, 1)\n",
        "i_T"
      ],
      "metadata": {
        "colab": {
          "base_uri": "https://localhost:8080/"
        },
        "id": "UTdYBqFMGuL0",
        "outputId": "c807e878-8810-4d9b-8e94-2cccbab27de8"
      },
      "execution_count": null,
      "outputs": [
        {
          "output_type": "execute_result",
          "data": {
            "text/plain": [
              "tensor([[1, 4],\n",
              "        [2, 5],\n",
              "        [3, 6]])"
            ]
          },
          "metadata": {},
          "execution_count": 17
        }
      ]
    },
    {
      "cell_type": "markdown",
      "source": [
        "**If you have a 3D tensor (batch of matrices), use .permute() instead.**"
      ],
      "metadata": {
        "id": "QU1BoYdQHHTO"
      }
    },
    {
      "cell_type": "markdown",
      "source": [
        "# **Exercise**"
      ],
      "metadata": {
        "id": "DEh7JWp8Ho0q"
      }
    },
    {
      "cell_type": "markdown",
      "source": [
        "\n",
        "\n",
        "1.   **Create a 4x4 tensor with random values. Find its transpose.**\n",
        "\n",
        "\n",
        "2.   **Compute the gradient of f(x)= 4x^3 + 3x^2 - 5x + 2 at x=2 using PyTorch’s autograd**\n",
        "\n",
        "\n",
        "3.   **Multiply a 2x3 tensor with a 3x2 tensor and print the result.**\n"
      ],
      "metadata": {
        "id": "wUqxoLJ2HtOx"
      }
    },
    {
      "cell_type": "code",
      "source": [
        "tensor1 = torch.rand(4,4)\n",
        "tensor1"
      ],
      "metadata": {
        "colab": {
          "base_uri": "https://localhost:8080/"
        },
        "id": "o3jAqEwBHBw2",
        "outputId": "318c4a02-99c5-4718-d48a-05407616763a"
      },
      "execution_count": null,
      "outputs": [
        {
          "output_type": "execute_result",
          "data": {
            "text/plain": [
              "tensor([[0.1458, 0.5640, 0.6568, 0.3524],\n",
              "        [0.1482, 0.2194, 0.2557, 0.5214],\n",
              "        [0.0874, 0.5163, 0.3376, 0.7359],\n",
              "        [0.1704, 0.6663, 0.4750, 0.8656]])"
            ]
          },
          "metadata": {},
          "execution_count": 18
        }
      ]
    },
    {
      "cell_type": "code",
      "source": [
        "tensor1.T"
      ],
      "metadata": {
        "colab": {
          "base_uri": "https://localhost:8080/"
        },
        "id": "abCM19vuLjGT",
        "outputId": "205ea8a6-35c9-4502-a620-05aa8dd10362"
      },
      "execution_count": null,
      "outputs": [
        {
          "output_type": "execute_result",
          "data": {
            "text/plain": [
              "tensor([[0.1458, 0.1482, 0.0874, 0.1704],\n",
              "        [0.5640, 0.2194, 0.5163, 0.6663],\n",
              "        [0.6568, 0.2557, 0.3376, 0.4750],\n",
              "        [0.3524, 0.5214, 0.7359, 0.8656]])"
            ]
          },
          "metadata": {},
          "execution_count": 19
        }
      ]
    },
    {
      "cell_type": "code",
      "source": [
        "j = torch.tensor(2.0, requires_grad=True)\n",
        "y = 4*(j**3) + 3*(j**2) - 5*j + 2\n",
        "y.backward()\n",
        "j.grad"
      ],
      "metadata": {
        "colab": {
          "base_uri": "https://localhost:8080/"
        },
        "id": "LaQaWFyvIevP",
        "outputId": "127fd0c2-a0ce-4a48-db8f-107c3c00a4e7"
      },
      "execution_count": null,
      "outputs": [
        {
          "output_type": "execute_result",
          "data": {
            "text/plain": [
              "tensor(55.)"
            ]
          },
          "metadata": {},
          "execution_count": 20
        }
      ]
    },
    {
      "cell_type": "code",
      "source": [
        "tensor23 = torch.randint(0,10,(2,3))\n",
        "tensor23"
      ],
      "metadata": {
        "colab": {
          "base_uri": "https://localhost:8080/"
        },
        "id": "V9qkMdzHJTdc",
        "outputId": "6e7851ca-40bc-4465-ec19-a7dcebf595c4"
      },
      "execution_count": null,
      "outputs": [
        {
          "output_type": "execute_result",
          "data": {
            "text/plain": [
              "tensor([[9, 7, 2],\n",
              "        [0, 6, 5]])"
            ]
          },
          "metadata": {},
          "execution_count": 21
        }
      ]
    },
    {
      "cell_type": "code",
      "source": [
        "tensor32 = torch.randint(0,10,(3,2))\n",
        "tensor32"
      ],
      "metadata": {
        "colab": {
          "base_uri": "https://localhost:8080/"
        },
        "id": "g5kANzxhKwX1",
        "outputId": "86f3161f-5488-43c8-925c-a41508e68f6e"
      },
      "execution_count": null,
      "outputs": [
        {
          "output_type": "execute_result",
          "data": {
            "text/plain": [
              "tensor([[4, 0],\n",
              "        [1, 7],\n",
              "        [9, 6]])"
            ]
          },
          "metadata": {},
          "execution_count": 22
        }
      ]
    },
    {
      "cell_type": "code",
      "source": [
        "torch.mm(tensor23, tensor32)"
      ],
      "metadata": {
        "colab": {
          "base_uri": "https://localhost:8080/"
        },
        "id": "l_FloysPKzbd",
        "outputId": "5b48a254-f1ef-44d1-a8e6-f11c7b8faa0b"
      },
      "execution_count": null,
      "outputs": [
        {
          "output_type": "execute_result",
          "data": {
            "text/plain": [
              "tensor([[61, 61],\n",
              "        [51, 72]])"
            ]
          },
          "metadata": {},
          "execution_count": 23
        }
      ]
    },
    {
      "cell_type": "code",
      "source": [
        "a = torch.tensor(5.0, requires_grad=True)"
      ],
      "metadata": {
        "id": "Yv6leCXPJI6c"
      },
      "execution_count": null,
      "outputs": []
    },
    {
      "cell_type": "code",
      "source": [
        "b = 3*(a**3) - 4*(a**2) + 2*a - 1\n",
        "b.backward()\n",
        "a.grad"
      ],
      "metadata": {
        "colab": {
          "base_uri": "https://localhost:8080/"
        },
        "id": "bshdPArJKEau",
        "outputId": "8247e13f-0075-41f0-c637-9d9e55bd2370"
      },
      "execution_count": null,
      "outputs": [
        {
          "output_type": "execute_result",
          "data": {
            "text/plain": [
              "tensor(187.)"
            ]
          },
          "metadata": {},
          "execution_count": 25
        }
      ]
    },
    {
      "cell_type": "markdown",
      "source": [
        "**==========================================================================================================================================================================================================================**"
      ],
      "metadata": {
        "id": "8bBlrFGZcDSU"
      }
    },
    {
      "cell_type": "code",
      "source": [
        "import torch\n",
        "import torch.nn as nn\n",
        "import torch.nn.functional as F"
      ],
      "metadata": {
        "id": "NdYcqE6QcJrl"
      },
      "execution_count": null,
      "outputs": []
    },
    {
      "cell_type": "code",
      "source": [
        "# define the network\n",
        "class SimpleNN(nn.Module):\n",
        "  def __init__(self):\n",
        "    super(SimpleNN, self).__init__()\n",
        "    self.fc1 = nn.Linear(3,4)  # 3 inputs → 4 neurons\n",
        "    self.fc2 = nn.Linear(4,1)  # 4 → 1 output\n",
        "\n",
        "\n",
        "  def forward(self,x):\n",
        "    x = F.relu(self.fc1(x))  # activation after first layer\n",
        "    x = torch.sigmoid(self.fc2(x))  # sigmoid at output\n",
        "    return x"
      ],
      "metadata": {
        "id": "R1FXPZWrcuZi"
      },
      "execution_count": null,
      "outputs": []
    },
    {
      "cell_type": "code",
      "source": [
        "# Initialize network\n",
        "model = SimpleNN()"
      ],
      "metadata": {
        "id": "fB56SRPcd60S"
      },
      "execution_count": null,
      "outputs": []
    },
    {
      "cell_type": "code",
      "source": [
        "# Dummy input\n",
        "x = torch.tensor([1.0, 2.0, 3.0])"
      ],
      "metadata": {
        "id": "Aceb7c4ud-KR"
      },
      "execution_count": null,
      "outputs": []
    },
    {
      "cell_type": "code",
      "source": [
        "# Forward pass\n",
        "output = model(x)\n",
        "print(output)"
      ],
      "metadata": {
        "colab": {
          "base_uri": "https://localhost:8080/"
        },
        "id": "uPuNv5KWeGi7",
        "outputId": "a2265444-7c4c-4e24-a9d1-e4e9e1f86c5e"
      },
      "execution_count": null,
      "outputs": [
        {
          "output_type": "stream",
          "name": "stdout",
          "text": [
            "tensor([0.5063], grad_fn=<SigmoidBackward0>)\n"
          ]
        }
      ]
    },
    {
      "cell_type": "code",
      "source": [
        "# define the network\n",
        "class basicNN(nn.Module):\n",
        "  def __init__(self):\n",
        "    super(basicNN, self).__init__()\n",
        "    self.fc1 = nn.Linear(2,5)  # 2 inputs → 5 neurons\n",
        "    self.fc2 = nn.Linear(5,1)  # 5 → 1 output\n",
        "\n",
        "\n",
        "  def forward(self,x):\n",
        "    x = F.relu(self.fc1(x))  # activation after first layer\n",
        "    x = torch.sigmoid(self.fc2(x))  # sigmoid at output\n",
        "    return x"
      ],
      "metadata": {
        "id": "cscDrcsxeNRT"
      },
      "execution_count": null,
      "outputs": []
    },
    {
      "cell_type": "code",
      "source": [
        "model1 = basicNN()"
      ],
      "metadata": {
        "id": "8M5v9oKZeq1H"
      },
      "execution_count": null,
      "outputs": []
    },
    {
      "cell_type": "code",
      "source": [
        "x = torch.tensor([2.0, -1.0])\n",
        "output = model1(x)\n",
        "print(output)"
      ],
      "metadata": {
        "colab": {
          "base_uri": "https://localhost:8080/"
        },
        "id": "jbrsVMPVet9X",
        "outputId": "0fc764e3-85e1-4249-abc8-058cb4d5a0be"
      },
      "execution_count": null,
      "outputs": [
        {
          "output_type": "stream",
          "name": "stdout",
          "text": [
            "tensor([0.6467], grad_fn=<SigmoidBackward0>)\n"
          ]
        }
      ]
    },
    {
      "cell_type": "code",
      "source": [
        "print(model1.parameters)"
      ],
      "metadata": {
        "colab": {
          "base_uri": "https://localhost:8080/"
        },
        "id": "jk2jK1HRe6v_",
        "outputId": "55a5259a-604a-474f-8349-a2c185b5573e"
      },
      "execution_count": null,
      "outputs": [
        {
          "output_type": "stream",
          "name": "stdout",
          "text": [
            "<bound method Module.parameters of basicNN(\n",
            "  (fc1): Linear(in_features=2, out_features=5, bias=True)\n",
            "  (fc2): Linear(in_features=5, out_features=1, bias=True)\n",
            ")>\n"
          ]
        }
      ]
    },
    {
      "cell_type": "markdown",
      "source": [
        "**==========================================================================================================================================================================================================================**"
      ],
      "metadata": {
        "id": "BQELCaIsplJn"
      }
    },
    {
      "cell_type": "code",
      "source": [
        "import torch\n",
        "import torch.nn as nn\n",
        "import torch.optim as optim"
      ],
      "metadata": {
        "id": "WaKA1uEApotw"
      },
      "execution_count": null,
      "outputs": []
    },
    {
      "cell_type": "code",
      "source": [
        "# Dummy dataset (inputs and binary labels)\n",
        "X = torch.tensor([[1.0, 2.0],\n",
        "                  [2.0, -1.0],\n",
        "                  [-1.0, -2.0],\n",
        "                  [-2.0, 1.0]])\n",
        "y = torch.tensor([[1.0], [1.0], [0.0], [0.0]])"
      ],
      "metadata": {
        "id": "lqykLNrDpvdi"
      },
      "execution_count": null,
      "outputs": []
    },
    {
      "cell_type": "code",
      "source": [
        "# Simple model\n",
        "class BinaryClassifier(nn.Module):\n",
        "  def __init__(self):\n",
        "    super().__init__()\n",
        "    self.fc1 = nn.Linear(2, 10) # hidden layer was five earlier, this is for exercise\n",
        "    self.fc2 = nn.Linear(10, 1)\n",
        "\n",
        "  def forward(self, x):\n",
        "    x = torch.relu(self.fc1(x))\n",
        "    return torch.sigmoid(self.fc2(x))"
      ],
      "metadata": {
        "id": "DyLkmZbfqa8m"
      },
      "execution_count": null,
      "outputs": []
    },
    {
      "cell_type": "code",
      "source": [
        "model = BinaryClassifier()"
      ],
      "metadata": {
        "id": "jYoR1JLvrI6L"
      },
      "execution_count": null,
      "outputs": []
    },
    {
      "cell_type": "code",
      "source": [
        "# Loss & Optimizer\n",
        "criterion = nn.MSELoss() # was BCELoss() earlier, this is for exercise\n",
        "optimizer = optim.Adam(model.parameters(), lr=0.01)"
      ],
      "metadata": {
        "id": "cr63WZ8lrKyC"
      },
      "execution_count": null,
      "outputs": []
    },
    {
      "cell_type": "code",
      "source": [
        "# Training loop\n",
        "for epoch in range(10):\n",
        "  # forward pass\n",
        "  outputs = model(X)\n",
        "  loss = criterion(outputs, y)\n",
        "\n",
        "  # backward pass\n",
        "  optimizer.zero_grad()\n",
        "  loss.backward()\n",
        "  optimizer.step()\n",
        "\n",
        "  print(f\"Epoch : [{epoch}],  Loss : {loss.item():.4f}\")"
      ],
      "metadata": {
        "colab": {
          "base_uri": "https://localhost:8080/"
        },
        "id": "i-c1BZ9nrPaz",
        "outputId": "31b86d82-9a44-4444-8fbd-eed13800d78d"
      },
      "execution_count": null,
      "outputs": [
        {
          "output_type": "stream",
          "name": "stdout",
          "text": [
            "Epoch : [0],  Loss : 0.2698\n",
            "Epoch : [1],  Loss : 0.2615\n",
            "Epoch : [2],  Loss : 0.2535\n",
            "Epoch : [3],  Loss : 0.2457\n",
            "Epoch : [4],  Loss : 0.2381\n",
            "Epoch : [5],  Loss : 0.2306\n",
            "Epoch : [6],  Loss : 0.2232\n",
            "Epoch : [7],  Loss : 0.2159\n",
            "Epoch : [8],  Loss : 0.2091\n",
            "Epoch : [9],  Loss : 0.2024\n"
          ]
        }
      ]
    },
    {
      "cell_type": "markdown",
      "source": [
        "the loss going down at each epoch is very low"
      ],
      "metadata": {
        "id": "QyR1gCrmtjG6"
      }
    },
    {
      "cell_type": "code",
      "source": [
        "# Final predictions\n",
        "print(\"\\nFinal Predictions:\")\n",
        "print(model(X).detach())"
      ],
      "metadata": {
        "colab": {
          "base_uri": "https://localhost:8080/"
        },
        "id": "wzmTXfXYsPWi",
        "outputId": "fc54e26a-697d-4ccc-91c3-97fe51683127"
      },
      "execution_count": null,
      "outputs": [
        {
          "output_type": "stream",
          "name": "stdout",
          "text": [
            "\n",
            "Final Predictions:\n",
            "tensor([[0.6222],\n",
            "        [0.4930],\n",
            "        [0.4873],\n",
            "        [0.3813]])\n"
          ]
        }
      ]
    },
    {
      "cell_type": "markdown",
      "source": [
        "**==========================================================================================================================================================================================================================**"
      ],
      "metadata": {
        "id": "5uMdRwIR0Hca"
      }
    },
    {
      "cell_type": "code",
      "source": [
        "import torch\n",
        "import torch.nn as nn\n",
        "import torch.nn.functional as F"
      ],
      "metadata": {
        "id": "370Pd8AB0HD0"
      },
      "execution_count": null,
      "outputs": []
    },
    {
      "cell_type": "code",
      "source": [
        "\n",
        "class SimpleCNN(nn.Module):\n",
        "    def __init__(self):\n",
        "        super().__init__()\n",
        "        self.conv1 = nn.Conv2d(1, 8, kernel_size=3, stride=1, padding=1)  # Output: 8x28x28\n",
        "        self.pool = nn.MaxPool2d(2, 2)  # Output: 8x14x14\n",
        "        self.conv2 = nn.Conv2d(8, 16, 3, 1, 1)  # Output: 16x14x14 → pool → 16x7x7\n",
        "        self.fc1 = nn.Linear(16*7*7, 64)\n",
        "        self.fc2 = nn.Linear(64, 10)  # 10 classes for digits\n",
        "\n",
        "    def forward(self, x):\n",
        "        x = self.pool(F.relu(self.conv1(x)))  # Conv + ReLU + Pool\n",
        "        x = self.pool(F.relu(self.conv2(x)))\n",
        "        x = x.view(-1, 16*7*7)  # flatten\n",
        "        x = F.relu(self.fc1(x))\n",
        "        x = self.fc2(x)\n",
        "        return x"
      ],
      "metadata": {
        "id": "qKyKetEG0RG8"
      },
      "execution_count": null,
      "outputs": []
    },
    {
      "cell_type": "code",
      "source": [
        "from torchvision import datasets, transforms"
      ],
      "metadata": {
        "id": "aeaTyPRc0gYO"
      },
      "execution_count": null,
      "outputs": []
    },
    {
      "cell_type": "code",
      "source": [
        "transform = transforms.Compose([transforms.ToTensor()])\n",
        "train_data = datasets.MNIST(root='data', train=True, download=True, transform=transform)\n",
        "train_loader = torch.utils.data.DataLoader(train_data, batch_size=32, shuffle=True)"
      ],
      "metadata": {
        "colab": {
          "base_uri": "https://localhost:8080/"
        },
        "id": "LiExda0Z0kqF",
        "outputId": "a5adafad-b9dc-4031-be2b-43fda1aa852d"
      },
      "execution_count": null,
      "outputs": [
        {
          "output_type": "stream",
          "name": "stderr",
          "text": [
            "100%|██████████| 9.91M/9.91M [00:00<00:00, 14.9MB/s]\n",
            "100%|██████████| 28.9k/28.9k [00:00<00:00, 500kB/s]\n",
            "100%|██████████| 1.65M/1.65M [00:00<00:00, 3.86MB/s]\n",
            "100%|██████████| 4.54k/4.54k [00:00<00:00, 6.24MB/s]\n"
          ]
        }
      ]
    },
    {
      "cell_type": "code",
      "source": [
        "model = SimpleCNN()\n",
        "loss_fn = nn.CrossEntropyLoss()\n",
        "optimizer = torch.optim.Adam(model.parameters(), lr=0.001)"
      ],
      "metadata": {
        "id": "FYhkTW5R0nA9"
      },
      "execution_count": null,
      "outputs": []
    },
    {
      "cell_type": "code",
      "source": [
        "for epoch in range(1):\n",
        "    for images, labels in train_loader:\n",
        "        output = model(images)\n",
        "        loss = loss_fn(output, labels)\n",
        "        optimizer.zero_grad()\n",
        "        loss.backward()\n",
        "        optimizer.step()\n",
        "    print(f\"Epoch [{epoch+1}], Loss: {loss.item():.4f}\")"
      ],
      "metadata": {
        "colab": {
          "base_uri": "https://localhost:8080/"
        },
        "id": "pAT3NBfS0qXn",
        "outputId": "794c4818-ccb0-45b4-c37e-4a3021644a65"
      },
      "execution_count": null,
      "outputs": [
        {
          "output_type": "stream",
          "name": "stdout",
          "text": [
            "Epoch [1], Loss: 0.0299\n"
          ]
        }
      ]
    },
    {
      "cell_type": "code",
      "source": [],
      "metadata": {
        "id": "ktYVRunJ0sIv"
      },
      "execution_count": null,
      "outputs": []
    }
  ]
}